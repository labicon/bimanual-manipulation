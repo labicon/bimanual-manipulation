{
 "cells": [
  {
   "cell_type": "markdown",
   "id": "8c2b8bc1",
   "metadata": {},
   "source": [
    "## Human Control\n",
    "Using this file, you can use a Gaming Controller to move the two robot arms, both for enabling better intuition and getting teleoperated data."
   ]
  },
  {
   "cell_type": "markdown",
   "id": "17af3c15",
   "metadata": {},
   "source": [
    "### Xbox Controller Launcher"
   ]
  },
  {
   "cell_type": "code",
   "execution_count": null,
   "id": "e9b89829",
   "metadata": {},
   "outputs": [
    {
     "name": "stdout",
     "output_type": "stream",
     "text": [
      "pygame 2.6.1 (SDL 2.28.4, Python 3.12.9)\n",
      "Hello from the pygame community. https://www.pygame.org/contribute.html\n",
      "Joystick Count: 1\n",
      "Axes Count: 6\n",
      "Trackballs Count: 0\n",
      "Buttons Count: 11\n",
      "Hats Count: 1\n",
      "Reset!\n",
      "Button released\n"
     ]
    }
   ],
   "source": [
    "import os, time, pygame\n",
    "import mujoco\n",
    "import mujoco.viewer as vi\n",
    "import numpy as np\n",
    "\n",
    "os.environ[\"SDL_JOYSTICK_ALLOW_BACKGROUND_EVENTS\"] = \"1\"\n",
    "\n",
    "pygame.init()\n",
    "# Set the width and height of the screen (width, height).\n",
    "screen = pygame.display.set_mode((200, 200))\n",
    "pygame.display.set_caption(\"holder\")\n",
    "# Loop until the user clicks the close button.\n",
    "done = False\n",
    "# Used to manage how fast the screen updates.\n",
    "clock = pygame.time.Clock()\n",
    "# Initialize the joysticks.\n",
    "pygame.joystick.init()\n",
    "try:\n",
    "    joystick = pygame.joystick.Joystick(0)\n",
    "except:\n",
    "    raise ValueError(\"No controller detected!\")\n",
    "    exit(0)\n",
    "joystick.init()\n",
    "\n",
    "\n",
    "# UNCOMMENT LINE ACCORDINGLY\n",
    "model = mujoco.MjModel.from_xml_path(\"./robotic-arm-scenes/kin-kin-scene.xml\")\n",
    "# model = mujoco.MjModel.from_xml_path(\"./robotic-arm-scenes/kin-ufactory-scene.xml\")\n",
    "# model = mujoco.MjModel.from_xml_path(\"./robotic-arm-scenes/ufactory-ufactory-scene.xml\")\n",
    "data = mujoco.MjData(model)\n",
    "\n",
    "viewer = vi.launch_passive(model, data)\n",
    "cam = viewer.cam\n",
    "cam.azimuth = 89.42341055221736 ; cam.elevation = -24.71551037371763 ; cam.distance = 2.178356164063851\n",
    "cam.lookat = np.array([ 0.008920443007284508 , 0.2949731218770141 , 0.5729070964106863 ])\n",
    "done = False\n",
    "\n",
    "motion_scaling = 0.003\n",
    "def deadzoning(x):\n",
    "    if(x < 0.05 and x > -0.05):\n",
    "        return 0.0\n",
    "    else:\n",
    "        return x\n",
    "\n",
    "\n",
    "print(f\"Joystick Count: {pygame.joystick.get_count()}\")\n",
    "print(f\"Axes Count: {joystick.get_numaxes()}\")\n",
    "print(f\"Trackballs Count: {joystick.get_numballs()}\")\n",
    "print(f\"Buttons Count: {joystick.get_numbuttons()}\")\n",
    "print(f\"Hats Count: {joystick.get_numhats()}\")\n",
    "\n",
    "\n",
    "while not done:\n",
    "    mujoco.mj_step(model, data)\n",
    "    viewer.sync()\n",
    "\n",
    "    for event in pygame.event.get(): # User did something.\n",
    "        if event.type == pygame.QUIT: # If user clicked close.\n",
    "            done = True # Flag that we are done so we exit this loop.\n",
    "        elif event.type == pygame.JOYBUTTONDOWN:\n",
    "            if(event.button == 0):\n",
    "                data.ctrl = 0.0*data.ctrl\n",
    "                print(\"Reset!\")\n",
    "        elif event.type == pygame.JOYBUTTONUP:\n",
    "            print(\"Button released\")\n",
    "\n",
    "    \n",
    "    if(len(data.ctrl) >= 2):\n",
    "        LJS_horizontal_axis = joystick.get_axis(0)\n",
    "        data.ctrl[0] = np.clip(data.ctrl[0] + motion_scaling*deadzoning(LJS_horizontal_axis), -3.0, 3.0)\n",
    "        LJS_vertical_axis = joystick.get_axis(1)\n",
    "        data.ctrl[1] = np.clip(data.ctrl[1] - motion_scaling*deadzoning(LJS_vertical_axis), -3.0, 3.0)\n",
    "        Ltrigger_axis = joystick.get_axis(2)\n",
    "        data.ctrl[7] = np.clip(128*deadzoning(Ltrigger_axis + 1.0), 0.0, 255.0)\n",
    "    if(len(data.ctrl) >= 4):        \n",
    "        RJS_horizontal_axis = joystick.get_axis(3)\n",
    "        data.ctrl[2] = np.clip(data.ctrl[2] + motion_scaling*deadzoning(RJS_horizontal_axis), -3.0, 3.0)\n",
    "        RJS_vertical_axis = joystick.get_axis(4)\n",
    "        data.ctrl[3] = np.clip(data.ctrl[3] - motion_scaling*deadzoning(RJS_vertical_axis), -3.0, 3.0)\n",
    "        Rtrigger_axis = joystick.get_axis(5)\n",
    "        data.ctrl[15] = np.clip(128*deadzoning(Rtrigger_axis + 1.0), 0.0, 255.0)\n",
    "    \n",
    "    pygame.display.flip()\n",
    "    # Limit to 10 frames per second.\n",
    "    clock.tick(1000)\n",
    "pygame.quit()"
   ]
  }
 ],
 "metadata": {
  "kernelspec": {
   "display_name": "torchmjx",
   "language": "python",
   "name": "python3"
  },
  "language_info": {
   "codemirror_mode": {
    "name": "ipython",
    "version": 3
   },
   "file_extension": ".py",
   "mimetype": "text/x-python",
   "name": "python",
   "nbconvert_exporter": "python",
   "pygments_lexer": "ipython3",
   "version": "3.12.9"
  }
 },
 "nbformat": 4,
 "nbformat_minor": 5
}
