{
 "cells": [
  {
   "cell_type": "markdown",
   "id": "17af3c15",
   "metadata": {},
   "source": [
    "### Xbox Controller Launcher"
   ]
  },
  {
   "cell_type": "code",
   "execution_count": 1,
   "id": "e9b89829",
   "metadata": {},
   "outputs": [
    {
     "ename": "ModuleNotFoundError",
     "evalue": "No module named 'pygame'",
     "output_type": "error",
     "traceback": [
      "\u001b[31m---------------------------------------------------------------------------\u001b[39m",
      "\u001b[31mModuleNotFoundError\u001b[39m                       Traceback (most recent call last)",
      "\u001b[36mCell\u001b[39m\u001b[36m \u001b[39m\u001b[32mIn[1]\u001b[39m\u001b[32m, line 1\u001b[39m\n\u001b[32m----> \u001b[39m\u001b[32m1\u001b[39m \u001b[38;5;28;01mimport\u001b[39;00m\u001b[38;5;250m \u001b[39m\u001b[34;01mos\u001b[39;00m,\u001b[38;5;250m \u001b[39m\u001b[34;01mtime\u001b[39;00m,\u001b[38;5;250m \u001b[39m\u001b[34;01mpygame\u001b[39;00m\n\u001b[32m      2\u001b[39m \u001b[38;5;28;01mimport\u001b[39;00m\u001b[38;5;250m \u001b[39m\u001b[34;01mmujoco\u001b[39;00m\n\u001b[32m      3\u001b[39m \u001b[38;5;28;01mimport\u001b[39;00m\u001b[38;5;250m \u001b[39m\u001b[34;01mmujoco\u001b[39;00m\u001b[34;01m.\u001b[39;00m\u001b[34;01mviewer\u001b[39;00m\u001b[38;5;250m \u001b[39m\u001b[38;5;28;01mas\u001b[39;00m\u001b[38;5;250m \u001b[39m\u001b[34;01mvi\u001b[39;00m\n",
      "\u001b[31mModuleNotFoundError\u001b[39m: No module named 'pygame'"
     ]
    }
   ],
   "source": [
    "import os, time, pygame\n",
    "import mujoco\n",
    "import mujoco.viewer as vi\n",
    "import numpy as np\n",
    "\n",
    "os.environ[\"SDL_JOYSTICK_ALLOW_BACKGROUND_EVENTS\"] = \"1\"\n",
    "\n",
    "pygame.init()\n",
    "# Set the width and height of the screen (width, height).\n",
    "screen = pygame.display.set_mode((200, 200))\n",
    "pygame.display.set_caption(\"holder\")\n",
    "# Loop until the user clicks the close button.\n",
    "done = False\n",
    "# Used to manage how fast the screen updates.\n",
    "clock = pygame.time.Clock()\n",
    "# Initialize the joysticks.\n",
    "pygame.joystick.init()\n",
    "joystick = pygame.joystick.Joystick(0)\n",
    "joystick.init()\n",
    "\n",
    "\n",
    "# UNCOMMENT LINE ACCORDINGLY\n",
    "model = mujoco.MjModel.from_xml_path(\"./robotic-arm-scenes/kin-kin-scene.xml\")\n",
    "# model = mujoco.MjModel.from_xml_path(\"./robotic-arm-scenes/kin-ufactory-scene.xml\")\n",
    "# model = mujoco.MjModel.from_xml_path(\"./robotic-arm-scenes/ufactory-ufactory-scene.xml\")\n",
    "data = mujoco.MjData(model)\n",
    "\n",
    "viewer = vi.launch_passive(model, data)\n",
    "cam = viewer.cam\n",
    "cam.azimuth = 89.25 ; cam.elevation = -67.5 ; cam.distance = 10.275441803128212\n",
    "cam.lookat = np.array([ -0.00882946462815496 , 0.29350913433857984 , -0.21468602029580156 ])\n",
    "done = False\n",
    "\n",
    "motion_scaling = 0.03\n",
    "def deadzoning(x):\n",
    "    if(x < 0.05 and x > -0.05):\n",
    "        return 0.0\n",
    "    else:\n",
    "        return x\n",
    "\n",
    "while not done:\n",
    "    mujoco.mj_step(model, data)\n",
    "    viewer.sync()\n",
    "\n",
    "    for event in pygame.event.get(): # User did something.\n",
    "        if event.type == pygame.QUIT: # If user clicked close.\n",
    "            done = True # Flag that we are done so we exit this loop.\n",
    "        elif event.type == pygame.JOYBUTTONDOWN:\n",
    "            if(event.button == 0):\n",
    "                data.ctrl[0] = 0.0\n",
    "                data.ctrl[1] = 0.0\n",
    "                print(\"Reset!\")\n",
    "        elif event.type == pygame.JOYBUTTONUP:\n",
    "            print(\"Button released\")\n",
    "\n",
    "    \n",
    "    if(len(data.ctrl) == 2):\n",
    "        LJS_horizontal_axis = joystick.get_axis(0)\n",
    "        data.ctrl[0] = np.clip(data.ctrl[0] + motion_scaling*deadzoning(LJS_horizontal_axis), -3.0, 3.0)\n",
    "        LJS_vertical_axis = joystick.get_axis(1)\n",
    "        data.ctrl[1] = np.clip(data.ctrl[1] - motion_scaling*deadzoning(LJS_vertical_axis), -3.0, 3.0)\n",
    "        Ltrigger_axis = joystick.get_axis(2)\n",
    "    elif(len(data.ctrl) == 4):\n",
    "        LJS_horizontal_axis = joystick.get_axis(0)\n",
    "        data.ctrl[0] = np.clip(data.ctrl[0] + motion_scaling*deadzoning(LJS_horizontal_axis), -3.0, 3.0)\n",
    "        LJS_vertical_axis = joystick.get_axis(1)\n",
    "        data.ctrl[1] = np.clip(data.ctrl[1] - motion_scaling*deadzoning(LJS_vertical_axis), -3.0, 3.0)\n",
    "        Ltrigger_axis = joystick.get_axis(2)\n",
    "        \n",
    "        RJS_horizontal_axis = joystick.get_axis(3)\n",
    "        data.ctrl[2] = np.clip(data.ctrl[2] + motion_scaling*deadzoning(RJS_horizontal_axis), -3.0, 3.0)\n",
    "        RJS_vertical_axis = joystick.get_axis(4)\n",
    "        data.ctrl[3] = np.clip(data.ctrl[3] - motion_scaling*deadzoning(RJS_vertical_axis), -3.0, 3.0)\n",
    "        Rtrigger_axis = joystick.get_axis(5)\n",
    "    \n",
    "    pygame.display.flip()\n",
    "    # Limit to 10 frames per second.\n",
    "    clock.tick(1000)\n",
    "pygame.quit()"
   ]
  }
 ],
 "metadata": {
  "kernelspec": {
   "display_name": "mjbrax",
   "language": "python",
   "name": "python3"
  },
  "language_info": {
   "codemirror_mode": {
    "name": "ipython",
    "version": 3
   },
   "file_extension": ".py",
   "mimetype": "text/x-python",
   "name": "python",
   "nbconvert_exporter": "python",
   "pygments_lexer": "ipython3",
   "version": "3.12.9"
  }
 },
 "nbformat": 4,
 "nbformat_minor": 5
}
