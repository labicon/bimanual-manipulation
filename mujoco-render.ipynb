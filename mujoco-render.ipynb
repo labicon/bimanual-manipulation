{
 "cells": [
  {
   "cell_type": "markdown",
   "id": "17af3c15",
   "metadata": {},
   "source": [
    "### Mujoco Minimalistic File Launcher"
   ]
  },
  {
   "cell_type": "markdown",
   "id": "ed11dc94",
   "metadata": {},
   "source": [
    "#### Kinova Gen3 - Kinova Gen3 Scenario"
   ]
  },
  {
   "cell_type": "code",
   "execution_count": 1,
   "id": "4da5a367",
   "metadata": {},
   "outputs": [],
   "source": [
    "# VI launcher\n",
    "import time\n",
    "import mujoco\n",
    "import mujoco.viewer as vi\n",
    "import numpy as np\n",
    "\n",
    "model = mujoco.MjModel.from_xml_path(\"./robotic-arm-scenes/kin-kin-scene.xml\")\n",
    "data = mujoco.MjData(model)\n",
    "\n",
    "with vi.launch_passive(model, data) as viewer:\n",
    "  cam = viewer.cam\n",
    "  cam.azimuth = 89.42341055221736 ; cam.elevation = -24.71551037371763 ; cam.distance = 2.178356164063851\n",
    "  cam.lookat = np.array([ 0.008920443007284508 , 0.2949731218770141 , 0.5729070964106863 ])\n",
    "  \n",
    "  while viewer.is_running():   # Close the viewer automatically after 30 wall-seconds.\n",
    "    step_start = time.time()\n",
    "\n",
    "    # mj_step can be replaced with code that also evaluates a policy and applies a control signal before stepping the physics.\n",
    "    mujoco.mj_step(model, data)\n",
    "\n",
    "    # Pick up changes to the physics state, apply perturbations, update options from GUI.\n",
    "    viewer.sync()\n",
    "\n",
    "    # Rudimentary time keeping, will drift relative to wall clock.\n",
    "    time_until_next_step = model.opt.timestep - (time.time() - step_start)\n",
    "    if time_until_next_step > 0:\n",
    "      time.sleep(time_until_next_step)"
   ]
  },
  {
   "cell_type": "markdown",
   "id": "e2511142",
   "metadata": {},
   "source": [
    "#### Ufactory xArm7 - Kinova Gen3 Scenario"
   ]
  },
  {
   "cell_type": "code",
   "execution_count": null,
   "id": "d518cfed",
   "metadata": {},
   "outputs": [],
   "source": [
    "# VI launcher\n",
    "import time\n",
    "import mujoco\n",
    "import mujoco.viewer as vi\n",
    "import numpy as np\n",
    "\n",
    "model = mujoco.MjModel.from_xml_path(\"./robotic-arm-scenes/kin-ufactory-scene.xml\")\n",
    "data = mujoco.MjData(model)\n",
    "\n",
    "with vi.launch_passive(model, data) as viewer:\n",
    "  cam = viewer.cam\n",
    "  cam.azimuth = 89.42341055221736 ; cam.elevation = -24.71551037371763 ; cam.distance = 2.178356164063851\n",
    "  cam.lookat = np.array([ 0.008920443007284508 , 0.2949731218770141 , 0.5729070964106863 ])\n",
    "  \n",
    "  while viewer.is_running():   # Close the viewer automatically after 30 wall-seconds.\n",
    "    step_start = time.time()\n",
    "\n",
    "    # mj_step can be replaced with code that also evaluates a policy and applies a control signal before stepping the physics.\n",
    "    mujoco.mj_step(model, data)\n",
    "\n",
    "    # Pick up changes to the physics state, apply perturbations, update options from GUI.\n",
    "    viewer.sync()\n",
    "\n",
    "    # Rudimentary time keeping, will drift relative to wall clock.\n",
    "    time_until_next_step = model.opt.timestep - (time.time() - step_start)\n",
    "    if time_until_next_step > 0:\n",
    "      time.sleep(time_until_next_step)"
   ]
  },
  {
   "cell_type": "markdown",
   "id": "e40a825c",
   "metadata": {},
   "source": [
    "#### Ufactory xArm7 - Ufactory xArm7 Scenario"
   ]
  },
  {
   "cell_type": "code",
   "execution_count": 2,
   "id": "bda5396d",
   "metadata": {},
   "outputs": [],
   "source": [
    "# VI launcher\n",
    "import time\n",
    "import mujoco\n",
    "import mujoco.viewer as vi\n",
    "import numpy as np\n",
    "\n",
    "model = mujoco.MjModel.from_xml_path(\"./robotic-arm-scenes/ufactory-ufactory-scene.xml\")\n",
    "data = mujoco.MjData(model)\n",
    "\n",
    "with vi.launch_passive(model, data) as viewer:\n",
    "  cam = viewer.cam\n",
    "  cam.azimuth = 89.42341055221736 ; cam.elevation = -24.71551037371763 ; cam.distance = 2.178356164063851\n",
    "  cam.lookat = np.array([ 0.008920443007284508 , 0.2949731218770141 , 0.5729070964106863 ])\n",
    "  \n",
    "  while viewer.is_running():   # Close the viewer automatically after 30 wall-seconds.\n",
    "    step_start = time.time()\n",
    "\n",
    "    # mj_step can be replaced with code that also evaluates a policy and applies a control signal before stepping the physics.\n",
    "    mujoco.mj_step(model, data)\n",
    "\n",
    "    # Pick up changes to the physics state, apply perturbations, update options from GUI.\n",
    "    viewer.sync()\n",
    "\n",
    "    # Rudimentary time keeping, will drift relative to wall clock.\n",
    "    time_until_next_step = model.opt.timestep - (time.time() - step_start)\n",
    "    if time_until_next_step > 0:\n",
    "      time.sleep(time_until_next_step)"
   ]
  },
  {
   "cell_type": "markdown",
   "id": "3f92b965",
   "metadata": {},
   "source": [
    "### Custom Camera Setup Launch\n",
    "\n",
    "The default camera viewing position in mujoco is often too close and pointed askew. Luckily, we can automatically set the camera position via code. This script will constantly print the camera position code for what the viewer is currently set to. So once you launch, just move the camera to a good position using scroll wheel and panning, and then exit the program. The last printed statement can then replace lines 13 and 14, and when you launch again it should automatically just set the camera to the correct position again!"
   ]
  },
  {
   "cell_type": "code",
   "execution_count": null,
   "id": "f2224377",
   "metadata": {},
   "outputs": [],
   "source": [
    "import time\n",
    "import mujoco\n",
    "import mujoco.viewer as vi\n",
    "import numpy as np\n",
    "\n",
    "model = mujoco.MjModel.from_xml_path(\"./robotic-arm-scenes/ufactory-ufactory-scene.xml\")\n",
    "model = mujoco.MjModel.from_xml_path(\"./robotic-arm-scenes/kin-kin-scene.xml\")\n",
    "data = mujoco.MjData(model)\n",
    "\n",
    "with vi.launch_passive(model, data) as viewer:\n",
    "  cam = viewer.cam\n",
    "  cam.azimuth = 89.42341055221736 ; cam.elevation = -24.71551037371763 ; cam.distance = 2.178356164063851\n",
    "  cam.lookat = np.array([ 0.008920443007284508 , 0.2949731218770141 , 0.5729070964106863 ])\n",
    "  \n",
    "  while viewer.is_running():\n",
    "    step_start = time.time()\n",
    "    print('cam.azimuth =',cam.azimuth,';','cam.elevation =',cam.elevation,';','cam.distance =',cam.distance)\n",
    "    print('cam.lookat = np.array([',cam.lookat[0],',',cam.lookat[1],',',cam.lookat[2],'])')\n",
    "\n",
    "    # mj_step can be replaced with code that also evaluates\n",
    "    # a policy and applies a control signal before stepping the physics.\n",
    "    mujoco.mj_step(model, data)\n",
    "    \n",
    "\t# Example modification of a viewer option: toggle contact points every two seconds.\n",
    "    with viewer.lock():\n",
    "      viewer.opt.flags[mujoco.mjtVisFlag.mjVIS_CONTACTPOINT] = 1\n",
    "\n",
    "    # Pick up changes to the physics state, apply perturbations, update options from GUI.\n",
    "    viewer.sync()\n",
    "\n",
    "    # Rudimentary time keeping, will drift relative to wall clock.\n",
    "    time_until_next_step = model.opt.timestep - (time.time() - step_start)\n",
    "    if time_until_next_step > 0:\n",
    "      time.sleep(time_until_next_step)"
   ]
  }
 ],
 "metadata": {
  "kernelspec": {
   "display_name": "torchmjx",
   "language": "python",
   "name": "python3"
  },
  "language_info": {
   "codemirror_mode": {
    "name": "ipython",
    "version": 3
   },
   "file_extension": ".py",
   "mimetype": "text/x-python",
   "name": "python",
   "nbconvert_exporter": "python",
   "pygments_lexer": "ipython3",
   "version": "3.12.9"
  }
 },
 "nbformat": 4,
 "nbformat_minor": 5
}
